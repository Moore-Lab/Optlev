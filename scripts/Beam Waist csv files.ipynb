{
 "cells": [
  {
   "cell_type": "code",
   "execution_count": null,
   "metadata": {},
   "outputs": [],
   "source": [
    "# Libraries\n",
    "import pandas as pd\n",
    "import numpy as np\n",
    "import scipy as sp\n",
    "import math \n",
    "import matplotlib.pyplot as plt\n",
    "from scipy.optimize import curve_fit\n",
    "from scipy import special\n",
    "import os\n",
    "from sklearn.metrics import r2_score"
   ]
  },
  {
   "cell_type": "code",
   "execution_count": null,
   "metadata": {
    "scrolled": false
   },
   "outputs": [],
   "source": [
    "# Reading multiple csv files\n",
    "\n",
    "# Enter your path\n",
    "path=r'C:\\Users\\malli\\OneDrive\\Desktop\\SIMPLE\\Pass2 - Beam waist data 5-26-22'\n",
    "\n",
    "file_directory=[]\n",
    "\n",
    "for filename in sorted(os.listdir(path)):\n",
    "    if filename.endswith(\".csv\"): \n",
    "        print(filename)\n",
    "        df = pd.read_csv(filename, delimiter=';', header=16,  usecols=[2, 3], names=['Time', 'Power'])\n",
    "        file_directory.append(df)"
   ]
  },
  {
   "cell_type": "code",
   "execution_count": null,
   "metadata": {},
   "outputs": [],
   "source": [
    "# define function for curve fitting - - error function\n",
    "def model(x,x0,p_max,w):\n",
    "    return (1/2)*p_max*(1+special.erf(math.sqrt(2)*(x-x0)/w))\n",
    "\n",
    "# initial guesses for parameters for x0, p_max, w\n",
    "pO=[100,30,50] \n",
    "\n",
    "ws=[]\n",
    "        \n",
    "for df in file_directory:\n",
    "    length = len(df['Time'])\n",
    "    x = np.arange(length)\n",
    "    y = 10**3*df['Power']\n",
    "    \n",
    "    # fit curve \n",
    "    popt, pcov = curve_fit(model,x,y,pO) #popt -- optimal values of parameters\n",
    "    \n",
    "    #define the fitting function\n",
    "    yp=model(x,popt[0],popt[1],popt[2])\n",
    "    \n",
    "    # can take printing these values out; however seeing p_max and x0 can serve as sanity check that it's fitting well\n",
    "    print('x0 = %.2f s'% (popt[0]))\n",
    "    print('Maximum power = {:.2f} mW'.format(popt[1]))\n",
    "    print('Beam waist = {:.2f} s'.format(popt[2]))\n",
    "    print('R^2 : %.5f'%(r2_score(y,yp)))\n",
    "    \n",
    "    w=popt[2]\n",
    "    ws.append(w)\n",
    "   \n",
    "    # would be nice to find way to label each graph with z position in the loop\n",
    "    plt.figure()\n",
    "    plt.title('Data against error function for knife edge method')\n",
    "    plt.xlabel('Time (s)')\n",
    "    plt.ylabel('Optical power (mW)')\n",
    "    plt.plot(x,y,label='Data')\n",
    "    plt.plot(x,yp, label='Fit')\n",
    "    #\n",
    "    plt.legend()"
   ]
  },
  {
   "cell_type": "code",
   "execution_count": null,
   "metadata": {},
   "outputs": [],
   "source": [
    "# Define waist: only helpful if we work in meters\n",
    "def waist_dist(z, z0, w0):\n",
    "    l = 1.064e-6 #wavelength of beam\n",
    "    zr = sp.pi*w0**2/l #raleigh length\n",
    "    return w0*sp.sqrt(1 + ((z-z0)/zr)**2) \n",
    "\n",
    "# Function we use if we are working in z=time\n",
    "def waist_time(z,z0,w0,a):\n",
    "    return w0*sp.sqrt(1 + (a*(z-z0)/w0**2)**2) \n",
    "\n",
    "# MUST change to match heights used \n",
    "z = np.linspace(4,11,8)\n",
    "\n",
    "# initial guess for z0,w0,a\n",
    "g1=[10,15, -150] \n",
    "\n",
    "popt, pcov = curve_fit(waist_time,z,ws,g1)\n",
    "\n",
    "#define the fitting function\n",
    "yp_w=waist_time(z,popt[0], popt[1],popt[2])\n",
    "print('z0 = %.8f s'% (popt[0]))\n",
    "print('w0 = %.5f s'% (popt[1]))\n",
    "print('a = %.5f s'% (popt[2]))\n",
    "\n",
    "# find R^2 value\n",
    "print('R^2 : %.5f'%(r2_score(ws,yp_w)))\n",
    "plt.figure()\n",
    "\n",
    "#plt.title('Beam Waist using Knife Edge Method')\n",
    "plt.xlabel('z: Time (s) -- fast')\n",
    "plt.ylabel('w')\n",
    "\n",
    "#Plot data\n",
    "plt.plot(z,ws, label='from erf', marker=\".\")\n",
    "\n",
    "#Plot the fitting function\n",
    "plt.plot(z,yp_w, label='fit', marker=\".\")\n",
    "plt.legend()"
   ]
  }
 ],
 "metadata": {
  "kernelspec": {
   "display_name": "Python 3",
   "language": "python",
   "name": "python3"
  },
  "language_info": {
   "codemirror_mode": {
    "name": "ipython",
    "version": 3
   },
   "file_extension": ".py",
   "mimetype": "text/x-python",
   "name": "python",
   "nbconvert_exporter": "python",
   "pygments_lexer": "ipython3",
   "version": "3.7.3"
  }
 },
 "nbformat": 4,
 "nbformat_minor": 2
}
